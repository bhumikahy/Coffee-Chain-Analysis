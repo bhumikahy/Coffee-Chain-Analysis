{
 "cells": [
  {
   "cell_type": "markdown",
   "id": "51d9cd8e",
   "metadata": {},
   "source": [
    "# Coffee Chain Sales Data Analysis"
   ]
  },
  {
   "cell_type": "markdown",
   "id": "9c63446b",
   "metadata": {},
   "source": [
    "## Import Libraries"
   ]
  },
  {
   "cell_type": "code",
   "execution_count": 1,
   "id": "87c0432d",
   "metadata": {},
   "outputs": [],
   "source": [
    "import pandas as pd\n",
    "import numpy as np \n",
    "import matplotlib.pyplot as plt\n",
    "from matplotlib.ticker import FuncFormatter\n",
    "import seaborn as sns\n",
    "from datetime import datetime\n",
    "import calendar \n",
    "%matplotlib inline"
   ]
  },
  {
   "cell_type": "markdown",
   "id": "831c09b2",
   "metadata": {},
   "source": [
    "## Data Loading & Processing"
   ]
  },
  {
   "cell_type": "code",
   "execution_count": 2,
   "id": "1c018c80",
   "metadata": {},
   "outputs": [
    {
     "data": {
      "text/html": [
       "<div>\n",
       "<style scoped>\n",
       "    .dataframe tbody tr th:only-of-type {\n",
       "        vertical-align: middle;\n",
       "    }\n",
       "\n",
       "    .dataframe tbody tr th {\n",
       "        vertical-align: top;\n",
       "    }\n",
       "\n",
       "    .dataframe thead th {\n",
       "        text-align: right;\n",
       "    }\n",
       "</style>\n",
       "<table border=\"1\" class=\"dataframe\">\n",
       "  <thead>\n",
       "    <tr style=\"text-align: right;\">\n",
       "      <th></th>\n",
       "      <th>Area Code</th>\n",
       "      <th>Cogs</th>\n",
       "      <th>DifferenceBetweenActualandTargetProfit</th>\n",
       "      <th>Date</th>\n",
       "      <th>Inventory Margin</th>\n",
       "      <th>Margin</th>\n",
       "      <th>Market_size</th>\n",
       "      <th>Market</th>\n",
       "      <th>Marketing</th>\n",
       "      <th>Product_line</th>\n",
       "      <th>...</th>\n",
       "      <th>Product</th>\n",
       "      <th>Profit</th>\n",
       "      <th>Sales</th>\n",
       "      <th>State</th>\n",
       "      <th>Target_cogs</th>\n",
       "      <th>Target_margin</th>\n",
       "      <th>Target_profit</th>\n",
       "      <th>Target_sales</th>\n",
       "      <th>Total_expenses</th>\n",
       "      <th>Type</th>\n",
       "    </tr>\n",
       "  </thead>\n",
       "  <tbody>\n",
       "    <tr>\n",
       "      <th>0</th>\n",
       "      <td>303</td>\n",
       "      <td>51</td>\n",
       "      <td>-35</td>\n",
       "      <td>10/1/2012</td>\n",
       "      <td>503</td>\n",
       "      <td>71</td>\n",
       "      <td>Major Market</td>\n",
       "      <td>Central</td>\n",
       "      <td>46</td>\n",
       "      <td>Leaves</td>\n",
       "      <td>...</td>\n",
       "      <td>Lemon</td>\n",
       "      <td>-5</td>\n",
       "      <td>122</td>\n",
       "      <td>Colorado</td>\n",
       "      <td>30</td>\n",
       "      <td>60</td>\n",
       "      <td>30</td>\n",
       "      <td>90</td>\n",
       "      <td>76</td>\n",
       "      <td>Decaf</td>\n",
       "    </tr>\n",
       "    <tr>\n",
       "      <th>1</th>\n",
       "      <td>970</td>\n",
       "      <td>52</td>\n",
       "      <td>-24</td>\n",
       "      <td>10/1/2012</td>\n",
       "      <td>405</td>\n",
       "      <td>71</td>\n",
       "      <td>Major Market</td>\n",
       "      <td>Central</td>\n",
       "      <td>17</td>\n",
       "      <td>Leaves</td>\n",
       "      <td>...</td>\n",
       "      <td>Mint</td>\n",
       "      <td>26</td>\n",
       "      <td>123</td>\n",
       "      <td>Colorado</td>\n",
       "      <td>30</td>\n",
       "      <td>60</td>\n",
       "      <td>50</td>\n",
       "      <td>90</td>\n",
       "      <td>45</td>\n",
       "      <td>Decaf</td>\n",
       "    </tr>\n",
       "    <tr>\n",
       "      <th>2</th>\n",
       "      <td>409</td>\n",
       "      <td>43</td>\n",
       "      <td>-22</td>\n",
       "      <td>10/2/2012</td>\n",
       "      <td>419</td>\n",
       "      <td>64</td>\n",
       "      <td>Major Market</td>\n",
       "      <td>South</td>\n",
       "      <td>13</td>\n",
       "      <td>Leaves</td>\n",
       "      <td>...</td>\n",
       "      <td>Lemon</td>\n",
       "      <td>28</td>\n",
       "      <td>107</td>\n",
       "      <td>Texas</td>\n",
       "      <td>30</td>\n",
       "      <td>60</td>\n",
       "      <td>50</td>\n",
       "      <td>90</td>\n",
       "      <td>36</td>\n",
       "      <td>Decaf</td>\n",
       "    </tr>\n",
       "    <tr>\n",
       "      <th>3</th>\n",
       "      <td>850</td>\n",
       "      <td>38</td>\n",
       "      <td>-15</td>\n",
       "      <td>10/3/2012</td>\n",
       "      <td>871</td>\n",
       "      <td>56</td>\n",
       "      <td>Major Market</td>\n",
       "      <td>East</td>\n",
       "      <td>10</td>\n",
       "      <td>Leaves</td>\n",
       "      <td>...</td>\n",
       "      <td>Darjeeling</td>\n",
       "      <td>35</td>\n",
       "      <td>94</td>\n",
       "      <td>Florida</td>\n",
       "      <td>40</td>\n",
       "      <td>60</td>\n",
       "      <td>50</td>\n",
       "      <td>100</td>\n",
       "      <td>21</td>\n",
       "      <td>Regular</td>\n",
       "    </tr>\n",
       "    <tr>\n",
       "      <th>4</th>\n",
       "      <td>562</td>\n",
       "      <td>72</td>\n",
       "      <td>6</td>\n",
       "      <td>10/4/2012</td>\n",
       "      <td>650</td>\n",
       "      <td>110</td>\n",
       "      <td>Major Market</td>\n",
       "      <td>West</td>\n",
       "      <td>23</td>\n",
       "      <td>Leaves</td>\n",
       "      <td>...</td>\n",
       "      <td>Green Tea</td>\n",
       "      <td>56</td>\n",
       "      <td>182</td>\n",
       "      <td>California</td>\n",
       "      <td>20</td>\n",
       "      <td>60</td>\n",
       "      <td>50</td>\n",
       "      <td>80</td>\n",
       "      <td>54</td>\n",
       "      <td>Regular</td>\n",
       "    </tr>\n",
       "  </tbody>\n",
       "</table>\n",
       "<p>5 rows × 21 columns</p>\n",
       "</div>"
      ],
      "text/plain": [
       "   Area Code  Cogs  DifferenceBetweenActualandTargetProfit       Date  \\\n",
       "0        303    51                                     -35  10/1/2012   \n",
       "1        970    52                                     -24  10/1/2012   \n",
       "2        409    43                                     -22  10/2/2012   \n",
       "3        850    38                                     -15  10/3/2012   \n",
       "4        562    72                                       6  10/4/2012   \n",
       "\n",
       "   Inventory Margin  Margin   Market_size   Market  Marketing Product_line  \\\n",
       "0               503      71  Major Market  Central         46       Leaves   \n",
       "1               405      71  Major Market  Central         17       Leaves   \n",
       "2               419      64  Major Market    South         13       Leaves   \n",
       "3               871      56  Major Market     East         10       Leaves   \n",
       "4               650     110  Major Market     West         23       Leaves   \n",
       "\n",
       "   ...     Product Profit  Sales       State Target_cogs  Target_margin  \\\n",
       "0  ...       Lemon     -5    122    Colorado          30             60   \n",
       "1  ...        Mint     26    123    Colorado          30             60   \n",
       "2  ...       Lemon     28    107       Texas          30             60   \n",
       "3  ...  Darjeeling     35     94     Florida          40             60   \n",
       "4  ...   Green Tea     56    182  California          20             60   \n",
       "\n",
       "   Target_profit  Target_sales   Total_expenses     Type  \n",
       "0             30             90              76    Decaf  \n",
       "1             50             90              45    Decaf  \n",
       "2             50             90              36    Decaf  \n",
       "3             50            100              21  Regular  \n",
       "4             50             80              54  Regular  \n",
       "\n",
       "[5 rows x 21 columns]"
      ]
     },
     "execution_count": 2,
     "metadata": {},
     "output_type": "execute_result"
    }
   ],
   "source": [
    "# Load the data\n",
    "df = pd.read_csv('/Users/bhumi/Documents/DataScience/Projects/Coffee _Chain/Coffee_Chain_Sales.csv')\n",
    "df.head()"
   ]
  },
  {
   "cell_type": "markdown",
   "id": "7736ca80",
   "metadata": {},
   "source": [
    "## Column Categories"
   ]
  },
  {
   "cell_type": "markdown",
   "id": "5ac4c760",
   "metadata": {},
   "source": [
    "### 1. Identificatin Columns\n",
    "        Area Code\n",
    "        Date\n",
    "        State\n",
    "### 2. Sales and Revenue Metrics\n",
    "        Cogs\n",
    "        Profit\n",
    "        Sales\n",
    "        Inventory Margin\n",
    "        Margin\n",
    "### 3. Target Metrics\n",
    "        Target_cogs\n",
    "        Target_profit\n",
    "        Target_sales\n",
    "        Target_margin\n",
    "### 4. Marketing and Product Information\n",
    "        Market_size\n",
    "        Market\n",
    "        Marketing\n",
    "        Product_line\n",
    "        Product_type\n",
    "        Product\n",
    "### 5. Expense and Cost Metrics\n",
    "        Total_expense\n",
    "        DifferenceBetweenActualandTargetProfit\n",
    "### 6. Type Information\n",
    "        Type"
   ]
  },
  {
   "cell_type": "code",
   "execution_count": 28,
   "id": "6ae74063",
   "metadata": {},
   "outputs": [
    {
     "data": {
      "text/plain": [
       "(1062, 22)"
      ]
     },
     "execution_count": 28,
     "metadata": {},
     "output_type": "execute_result"
    }
   ],
   "source": [
    "df.shape"
   ]
  },
  {
   "cell_type": "code",
   "execution_count": 29,
   "id": "c01ffd06",
   "metadata": {},
   "outputs": [
    {
     "name": "stdout",
     "output_type": "stream",
     "text": [
      "<class 'pandas.core.frame.DataFrame'>\n",
      "RangeIndex: 1062 entries, 0 to 1061\n",
      "Data columns (total 22 columns):\n",
      " #   Column                                  Non-Null Count  Dtype \n",
      "---  ------                                  --------------  ----- \n",
      " 0   Area Code                               1062 non-null   int64 \n",
      " 1   Cogs                                    1062 non-null   int64 \n",
      " 2   DifferenceBetweenActualandTargetProfit  1062 non-null   int64 \n",
      " 3   Date                                    1062 non-null   object\n",
      " 4   Inventory Margin                        1062 non-null   int64 \n",
      " 5   Margin                                  1062 non-null   int64 \n",
      " 6   Market_size                             1062 non-null   object\n",
      " 7   Market                                  1062 non-null   object\n",
      " 8   Marketing                               1062 non-null   int64 \n",
      " 9   Product_line                            1062 non-null   object\n",
      " 10  Product_type                            1062 non-null   object\n",
      " 11  Product                                 1062 non-null   object\n",
      " 12  Profit                                  1062 non-null   int64 \n",
      " 13  Sales                                   1062 non-null   int64 \n",
      " 14  State                                   1062 non-null   object\n",
      " 15  Target_cogs                             1062 non-null   int64 \n",
      " 16  Target_margin                           1062 non-null   int64 \n",
      " 17  Target_profit                           1062 non-null   int64 \n",
      " 18  Target_sales                            1062 non-null   int64 \n",
      " 19  Total_expenses                          1062 non-null   int64 \n",
      " 20  Type                                    1062 non-null   object\n",
      " 21  Year                                    1062 non-null   int64 \n",
      "dtypes: int64(14), object(8)\n",
      "memory usage: 182.7+ KB\n"
     ]
    }
   ],
   "source": [
    "df.info()"
   ]
  },
  {
   "cell_type": "code",
   "execution_count": 30,
   "id": "2cfc9e51",
   "metadata": {},
   "outputs": [
    {
     "data": {
      "text/html": [
       "<div>\n",
       "<style scoped>\n",
       "    .dataframe tbody tr th:only-of-type {\n",
       "        vertical-align: middle;\n",
       "    }\n",
       "\n",
       "    .dataframe tbody tr th {\n",
       "        vertical-align: top;\n",
       "    }\n",
       "\n",
       "    .dataframe thead th {\n",
       "        text-align: right;\n",
       "    }\n",
       "</style>\n",
       "<table border=\"1\" class=\"dataframe\">\n",
       "  <thead>\n",
       "    <tr style=\"text-align: right;\">\n",
       "      <th></th>\n",
       "      <th>Area Code</th>\n",
       "      <th>Cogs</th>\n",
       "      <th>DifferenceBetweenActualandTargetProfit</th>\n",
       "      <th>Inventory Margin</th>\n",
       "      <th>Margin</th>\n",
       "      <th>Marketing</th>\n",
       "      <th>Profit</th>\n",
       "      <th>Sales</th>\n",
       "      <th>Target_cogs</th>\n",
       "      <th>Target_margin</th>\n",
       "      <th>Target_profit</th>\n",
       "      <th>Target_sales</th>\n",
       "      <th>Total_expenses</th>\n",
       "      <th>Year</th>\n",
       "    </tr>\n",
       "  </thead>\n",
       "  <tbody>\n",
       "    <tr>\n",
       "      <th>count</th>\n",
       "      <td>1062.000000</td>\n",
       "      <td>1062.000000</td>\n",
       "      <td>1062.000000</td>\n",
       "      <td>1062.000000</td>\n",
       "      <td>1062.000000</td>\n",
       "      <td>1062.000000</td>\n",
       "      <td>1062.000000</td>\n",
       "      <td>1062.000000</td>\n",
       "      <td>1062.000000</td>\n",
       "      <td>1062.000000</td>\n",
       "      <td>1062.000000</td>\n",
       "      <td>1062.000000</td>\n",
       "      <td>1062.000000</td>\n",
       "      <td>1062.000000</td>\n",
       "    </tr>\n",
       "    <tr>\n",
       "      <th>mean</th>\n",
       "      <td>587.030132</td>\n",
       "      <td>82.399247</td>\n",
       "      <td>0.387006</td>\n",
       "      <td>815.175141</td>\n",
       "      <td>102.423729</td>\n",
       "      <td>30.433145</td>\n",
       "      <td>60.556497</td>\n",
       "      <td>191.049906</td>\n",
       "      <td>71.676083</td>\n",
       "      <td>96.817326</td>\n",
       "      <td>60.169492</td>\n",
       "      <td>168.493409</td>\n",
       "      <td>53.836158</td>\n",
       "      <td>2013.706215</td>\n",
       "    </tr>\n",
       "    <tr>\n",
       "      <th>std</th>\n",
       "      <td>225.299162</td>\n",
       "      <td>64.824295</td>\n",
       "      <td>44.331180</td>\n",
       "      <td>916.156386</td>\n",
       "      <td>91.286704</td>\n",
       "      <td>25.963448</td>\n",
       "      <td>100.516593</td>\n",
       "      <td>148.270317</td>\n",
       "      <td>65.701583</td>\n",
       "      <td>89.467176</td>\n",
       "      <td>77.824869</td>\n",
       "      <td>145.955171</td>\n",
       "      <td>31.703526</td>\n",
       "      <td>0.912960</td>\n",
       "    </tr>\n",
       "    <tr>\n",
       "      <th>min</th>\n",
       "      <td>203.000000</td>\n",
       "      <td>0.000000</td>\n",
       "      <td>-369.000000</td>\n",
       "      <td>-3534.000000</td>\n",
       "      <td>-294.000000</td>\n",
       "      <td>0.000000</td>\n",
       "      <td>-605.000000</td>\n",
       "      <td>21.000000</td>\n",
       "      <td>0.000000</td>\n",
       "      <td>-210.000000</td>\n",
       "      <td>-320.000000</td>\n",
       "      <td>0.000000</td>\n",
       "      <td>11.000000</td>\n",
       "      <td>2012.000000</td>\n",
       "    </tr>\n",
       "    <tr>\n",
       "      <th>25%</th>\n",
       "      <td>425.000000</td>\n",
       "      <td>41.000000</td>\n",
       "      <td>-15.000000</td>\n",
       "      <td>447.000000</td>\n",
       "      <td>51.000000</td>\n",
       "      <td>13.000000</td>\n",
       "      <td>16.250000</td>\n",
       "      <td>98.000000</td>\n",
       "      <td>30.000000</td>\n",
       "      <td>50.000000</td>\n",
       "      <td>20.000000</td>\n",
       "      <td>80.000000</td>\n",
       "      <td>33.000000</td>\n",
       "      <td>2013.000000</td>\n",
       "    </tr>\n",
       "    <tr>\n",
       "      <th>50%</th>\n",
       "      <td>573.000000</td>\n",
       "      <td>57.000000</td>\n",
       "      <td>-3.000000</td>\n",
       "      <td>659.000000</td>\n",
       "      <td>73.000000</td>\n",
       "      <td>22.000000</td>\n",
       "      <td>39.500000</td>\n",
       "      <td>133.000000</td>\n",
       "      <td>50.000000</td>\n",
       "      <td>70.000000</td>\n",
       "      <td>40.000000</td>\n",
       "      <td>120.000000</td>\n",
       "      <td>46.000000</td>\n",
       "      <td>2014.000000</td>\n",
       "    </tr>\n",
       "    <tr>\n",
       "      <th>75%</th>\n",
       "      <td>774.000000</td>\n",
       "      <td>101.000000</td>\n",
       "      <td>13.000000</td>\n",
       "      <td>968.000000</td>\n",
       "      <td>130.000000</td>\n",
       "      <td>40.750000</td>\n",
       "      <td>87.000000</td>\n",
       "      <td>227.000000</td>\n",
       "      <td>90.000000</td>\n",
       "      <td>120.000000</td>\n",
       "      <td>80.000000</td>\n",
       "      <td>210.000000</td>\n",
       "      <td>66.000000</td>\n",
       "      <td>2014.000000</td>\n",
       "    </tr>\n",
       "    <tr>\n",
       "      <th>max</th>\n",
       "      <td>985.000000</td>\n",
       "      <td>294.000000</td>\n",
       "      <td>249.000000</td>\n",
       "      <td>8252.000000</td>\n",
       "      <td>526.000000</td>\n",
       "      <td>122.000000</td>\n",
       "      <td>646.000000</td>\n",
       "      <td>815.000000</td>\n",
       "      <td>380.000000</td>\n",
       "      <td>580.000000</td>\n",
       "      <td>470.000000</td>\n",
       "      <td>960.000000</td>\n",
       "      <td>156.000000</td>\n",
       "      <td>2015.000000</td>\n",
       "    </tr>\n",
       "  </tbody>\n",
       "</table>\n",
       "</div>"
      ],
      "text/plain": [
       "         Area Code         Cogs  DifferenceBetweenActualandTargetProfit  \\\n",
       "count  1062.000000  1062.000000                             1062.000000   \n",
       "mean    587.030132    82.399247                                0.387006   \n",
       "std     225.299162    64.824295                               44.331180   \n",
       "min     203.000000     0.000000                             -369.000000   \n",
       "25%     425.000000    41.000000                              -15.000000   \n",
       "50%     573.000000    57.000000                               -3.000000   \n",
       "75%     774.000000   101.000000                               13.000000   \n",
       "max     985.000000   294.000000                              249.000000   \n",
       "\n",
       "       Inventory Margin       Margin    Marketing       Profit        Sales  \\\n",
       "count       1062.000000  1062.000000  1062.000000  1062.000000  1062.000000   \n",
       "mean         815.175141   102.423729    30.433145    60.556497   191.049906   \n",
       "std          916.156386    91.286704    25.963448   100.516593   148.270317   \n",
       "min        -3534.000000  -294.000000     0.000000  -605.000000    21.000000   \n",
       "25%          447.000000    51.000000    13.000000    16.250000    98.000000   \n",
       "50%          659.000000    73.000000    22.000000    39.500000   133.000000   \n",
       "75%          968.000000   130.000000    40.750000    87.000000   227.000000   \n",
       "max         8252.000000   526.000000   122.000000   646.000000   815.000000   \n",
       "\n",
       "       Target_cogs  Target_margin  Target_profit  Target_sales   \\\n",
       "count  1062.000000    1062.000000    1062.000000    1062.000000   \n",
       "mean     71.676083      96.817326      60.169492     168.493409   \n",
       "std      65.701583      89.467176      77.824869     145.955171   \n",
       "min       0.000000    -210.000000    -320.000000       0.000000   \n",
       "25%      30.000000      50.000000      20.000000      80.000000   \n",
       "50%      50.000000      70.000000      40.000000     120.000000   \n",
       "75%      90.000000     120.000000      80.000000     210.000000   \n",
       "max     380.000000     580.000000     470.000000     960.000000   \n",
       "\n",
       "       Total_expenses         Year  \n",
       "count     1062.000000  1062.000000  \n",
       "mean        53.836158  2013.706215  \n",
       "std         31.703526     0.912960  \n",
       "min         11.000000  2012.000000  \n",
       "25%         33.000000  2013.000000  \n",
       "50%         46.000000  2014.000000  \n",
       "75%         66.000000  2014.000000  \n",
       "max        156.000000  2015.000000  "
      ]
     },
     "execution_count": 30,
     "metadata": {},
     "output_type": "execute_result"
    }
   ],
   "source": [
    "df.describe()"
   ]
  },
  {
   "cell_type": "code",
   "execution_count": 31,
   "id": "3d459577",
   "metadata": {},
   "outputs": [
    {
     "data": {
      "text/plain": [
       "Area Code                                 0\n",
       "Cogs                                      0\n",
       "DifferenceBetweenActualandTargetProfit    0\n",
       "Date                                      0\n",
       "Inventory Margin                          0\n",
       "Margin                                    0\n",
       "Market_size                               0\n",
       "Market                                    0\n",
       "Marketing                                 0\n",
       "Product_line                              0\n",
       "Product_type                              0\n",
       "Product                                   0\n",
       "Profit                                    0\n",
       "Sales                                     0\n",
       "State                                     0\n",
       "Target_cogs                               0\n",
       "Target_margin                             0\n",
       "Target_profit                             0\n",
       "Target_sales                              0\n",
       "Total_expenses                            0\n",
       "Type                                      0\n",
       "Year                                      0\n",
       "dtype: int64"
      ]
     },
     "execution_count": 31,
     "metadata": {},
     "output_type": "execute_result"
    }
   ],
   "source": [
    "# Check for null values\n",
    "df.isna().sum()"
   ]
  },
  {
   "cell_type": "code",
   "execution_count": 21,
   "id": "bfcc2498",
   "metadata": {},
   "outputs": [
    {
     "data": {
      "text/plain": [
       "0"
      ]
     },
     "execution_count": 21,
     "metadata": {},
     "output_type": "execute_result"
    }
   ],
   "source": [
    "# Check for duplicate values\n",
    "df.duplicated().sum()"
   ]
  },
  {
   "cell_type": "markdown",
   "id": "550d9732",
   "metadata": {},
   "source": [
    "## SALES PERFORMANCE ANALYSIS"
   ]
  },
  {
   "cell_type": "markdown",
   "id": "c457dc4c",
   "metadata": {},
   "source": [
    "### Total sales "
   ]
  },
  {
   "cell_type": "code",
   "execution_count": 32,
   "id": "9c459eea",
   "metadata": {
    "scrolled": true
   },
   "outputs": [
    {
     "data": {
      "text/plain": [
       "202895"
      ]
     },
     "execution_count": 32,
     "metadata": {},
     "output_type": "execute_result"
    }
   ],
   "source": [
    "total_sales = df['Sales'].sum()\n",
    "total_sales"
   ]
  },
  {
   "cell_type": "code",
   "execution_count": 33,
   "id": "eeac277b",
   "metadata": {},
   "outputs": [
    {
     "name": "stdout",
     "output_type": "stream",
     "text": [
      "        count        mean         std   min   25%    50%    75%    max\n",
      "Sales  1062.0  191.049906  148.270317  21.0  98.0  133.0  227.0  815.0\n"
     ]
    }
   ],
   "source": [
    "print(df[['Sales']].describe().T)"
   ]
  },
  {
   "cell_type": "code",
   "execution_count": 28,
   "id": "640e352b",
   "metadata": {
    "scrolled": true
   },
   "outputs": [
    {
     "name": "stdout",
     "output_type": "stream",
     "text": [
      "Requirement already satisfied: plot_utils in /Users/bhumi/opt/anaconda3/lib/python3.8/site-packages (0.6.14)\n",
      "Requirement already satisfied: matplotlib in /Users/bhumi/opt/anaconda3/lib/python3.8/site-packages (from plot_utils) (3.7.3)\n",
      "Requirement already satisfied: cycler>=0.10.0 in /Users/bhumi/opt/anaconda3/lib/python3.8/site-packages (from plot_utils) (0.10.0)\n",
      "Requirement already satisfied: scipy>=0.19.0 in /Users/bhumi/opt/anaconda3/lib/python3.8/site-packages (from plot_utils) (1.6.2)\n",
      "Requirement already satisfied: pandas>=0.17.1 in /Users/bhumi/opt/anaconda3/lib/python3.8/site-packages (from plot_utils) (1.2.4)\n",
      "Requirement already satisfied: numpy>=1.11.0 in /Users/bhumi/opt/anaconda3/lib/python3.8/site-packages (from plot_utils) (1.20.1)\n",
      "Requirement already satisfied: six in /Users/bhumi/opt/anaconda3/lib/python3.8/site-packages (from cycler>=0.10.0->plot_utils) (1.15.0)\n",
      "Requirement already satisfied: python-dateutil>=2.7.3 in /Users/bhumi/opt/anaconda3/lib/python3.8/site-packages (from pandas>=0.17.1->plot_utils) (2.8.1)\n",
      "Requirement already satisfied: pytz>=2017.3 in /Users/bhumi/opt/anaconda3/lib/python3.8/site-packages (from pandas>=0.17.1->plot_utils) (2021.1)\n",
      "Requirement already satisfied: fonttools>=4.22.0 in /Users/bhumi/opt/anaconda3/lib/python3.8/site-packages (from matplotlib->plot_utils) (4.43.1)\n",
      "Requirement already satisfied: packaging>=20.0 in /Users/bhumi/opt/anaconda3/lib/python3.8/site-packages (from matplotlib->plot_utils) (20.9)\n",
      "Requirement already satisfied: importlib-resources>=3.2.0 in /Users/bhumi/opt/anaconda3/lib/python3.8/site-packages (from matplotlib->plot_utils) (6.1.0)\n",
      "Requirement already satisfied: pillow>=6.2.0 in /Users/bhumi/opt/anaconda3/lib/python3.8/site-packages (from matplotlib->plot_utils) (8.2.0)\n",
      "Requirement already satisfied: pyparsing>=2.3.1 in /Users/bhumi/opt/anaconda3/lib/python3.8/site-packages (from matplotlib->plot_utils) (2.4.7)\n",
      "Requirement already satisfied: kiwisolver>=1.0.1 in /Users/bhumi/opt/anaconda3/lib/python3.8/site-packages (from matplotlib->plot_utils) (1.3.1)\n",
      "Requirement already satisfied: contourpy>=1.0.1 in /Users/bhumi/opt/anaconda3/lib/python3.8/site-packages (from matplotlib->plot_utils) (1.1.1)\n",
      "Requirement already satisfied: zipp>=3.1.0 in /Users/bhumi/opt/anaconda3/lib/python3.8/site-packages (from importlib-resources>=3.2.0->matplotlib->plot_utils) (3.4.1)\n",
      "Note: you may need to restart the kernel to use updated packages.\n"
     ]
    }
   ],
   "source": [
    "#pip install plot_utils\n",
    "#from plot_utils import distribution_plots, heatmap_plots, horizontal_bar_plots, monthly_averages_plots"
   ]
  },
  {
   "cell_type": "code",
   "execution_count": 6,
   "id": "6d211d1f",
   "metadata": {
    "scrolled": true
   },
   "outputs": [
    {
     "ename": "NameError",
     "evalue": "name 'distribution_plots' is not defined",
     "output_type": "error",
     "traceback": [
      "\u001b[0;31m---------------------------------------------------------------------------\u001b[0m",
      "\u001b[0;31mNameError\u001b[0m                                 Traceback (most recent call last)",
      "\u001b[0;32m<ipython-input-6-cd0fe35553ee>\u001b[0m in \u001b[0;36m<module>\u001b[0;34m\u001b[0m\n\u001b[1;32m      1\u001b[0m \u001b[0;31m# Sales distribution\u001b[0m\u001b[0;34m\u001b[0m\u001b[0;34m\u001b[0m\u001b[0;34m\u001b[0m\u001b[0m\n\u001b[0;32m----> 2\u001b[0;31m \u001b[0mdistribution_plots\u001b[0m\u001b[0;34m(\u001b[0m\u001b[0mdf\u001b[0m\u001b[0;34m[\u001b[0m\u001b[0;34m'Sales'\u001b[0m\u001b[0;34m]\u001b[0m\u001b[0;34m,\u001b[0m \u001b[0;34m'Sales Distribution'\u001b[0m\u001b[0;34m,\u001b[0m \u001b[0;34m'Sales'\u001b[0m\u001b[0;34m,\u001b[0m \u001b[0;34m'Frequency'\u001b[0m\u001b[0;34m,\u001b[0m \u001b[0mbins\u001b[0m\u001b[0;34m=\u001b[0m\u001b[0;36m25\u001b[0m\u001b[0;34m)\u001b[0m\u001b[0;34m\u001b[0m\u001b[0;34m\u001b[0m\u001b[0m\n\u001b[0m",
      "\u001b[0;31mNameError\u001b[0m: name 'distribution_plots' is not defined"
     ]
    }
   ],
   "source": [
    "# Sales distribution\n",
    "#distribution_plots(df['Sales'], 'Sales Distribution', 'Sales', 'Frequency', bins=25)"
   ]
  },
  {
   "cell_type": "markdown",
   "id": "a2027298",
   "metadata": {},
   "source": [
    "### Sales by state"
   ]
  },
  {
   "cell_type": "code",
   "execution_count": 34,
   "id": "0933c313",
   "metadata": {},
   "outputs": [
    {
     "data": {
      "text/html": [
       "<div>\n",
       "<style scoped>\n",
       "    .dataframe tbody tr th:only-of-type {\n",
       "        vertical-align: middle;\n",
       "    }\n",
       "\n",
       "    .dataframe tbody tr th {\n",
       "        vertical-align: top;\n",
       "    }\n",
       "\n",
       "    .dataframe thead th {\n",
       "        text-align: right;\n",
       "    }\n",
       "</style>\n",
       "<table border=\"1\" class=\"dataframe\">\n",
       "  <thead>\n",
       "    <tr style=\"text-align: right;\">\n",
       "      <th></th>\n",
       "      <th>State</th>\n",
       "      <th>Sales</th>\n",
       "    </tr>\n",
       "  </thead>\n",
       "  <tbody>\n",
       "    <tr>\n",
       "      <th>0</th>\n",
       "      <td>California</td>\n",
       "      <td>23032</td>\n",
       "    </tr>\n",
       "    <tr>\n",
       "      <th>1</th>\n",
       "      <td>Colorado</td>\n",
       "      <td>12112</td>\n",
       "    </tr>\n",
       "    <tr>\n",
       "      <th>2</th>\n",
       "      <td>Connecticut</td>\n",
       "      <td>6670</td>\n",
       "    </tr>\n",
       "    <tr>\n",
       "      <th>3</th>\n",
       "      <td>Florida</td>\n",
       "      <td>8825</td>\n",
       "    </tr>\n",
       "    <tr>\n",
       "      <th>4</th>\n",
       "      <td>Illinois</td>\n",
       "      <td>16812</td>\n",
       "    </tr>\n",
       "    <tr>\n",
       "      <th>5</th>\n",
       "      <td>Iowa</td>\n",
       "      <td>13359</td>\n",
       "    </tr>\n",
       "    <tr>\n",
       "      <th>6</th>\n",
       "      <td>Louisiana</td>\n",
       "      <td>6193</td>\n",
       "    </tr>\n",
       "    <tr>\n",
       "      <th>7</th>\n",
       "      <td>Massachusetts</td>\n",
       "      <td>7339</td>\n",
       "    </tr>\n",
       "    <tr>\n",
       "      <th>8</th>\n",
       "      <td>Missouri</td>\n",
       "      <td>6072</td>\n",
       "    </tr>\n",
       "    <tr>\n",
       "      <th>9</th>\n",
       "      <td>Nevada</td>\n",
       "      <td>14822</td>\n",
       "    </tr>\n",
       "    <tr>\n",
       "      <th>10</th>\n",
       "      <td>New Hampshire</td>\n",
       "      <td>3543</td>\n",
       "    </tr>\n",
       "    <tr>\n",
       "      <th>11</th>\n",
       "      <td>New Mexico</td>\n",
       "      <td>3805</td>\n",
       "    </tr>\n",
       "    <tr>\n",
       "      <th>12</th>\n",
       "      <td>New York</td>\n",
       "      <td>17731</td>\n",
       "    </tr>\n",
       "    <tr>\n",
       "      <th>13</th>\n",
       "      <td>Ohio</td>\n",
       "      <td>8787</td>\n",
       "    </tr>\n",
       "    <tr>\n",
       "      <th>14</th>\n",
       "      <td>Oklahoma</td>\n",
       "      <td>7298</td>\n",
       "    </tr>\n",
       "    <tr>\n",
       "      <th>15</th>\n",
       "      <td>Oregon</td>\n",
       "      <td>10661</td>\n",
       "    </tr>\n",
       "    <tr>\n",
       "      <th>16</th>\n",
       "      <td>Texas</td>\n",
       "      <td>9092</td>\n",
       "    </tr>\n",
       "    <tr>\n",
       "      <th>17</th>\n",
       "      <td>Utah</td>\n",
       "      <td>9159</td>\n",
       "    </tr>\n",
       "    <tr>\n",
       "      <th>18</th>\n",
       "      <td>Washington</td>\n",
       "      <td>9744</td>\n",
       "    </tr>\n",
       "    <tr>\n",
       "      <th>19</th>\n",
       "      <td>Wisconsin</td>\n",
       "      <td>7839</td>\n",
       "    </tr>\n",
       "  </tbody>\n",
       "</table>\n",
       "</div>"
      ],
      "text/plain": [
       "            State  Sales\n",
       "0      California  23032\n",
       "1        Colorado  12112\n",
       "2     Connecticut   6670\n",
       "3         Florida   8825\n",
       "4        Illinois  16812\n",
       "5            Iowa  13359\n",
       "6       Louisiana   6193\n",
       "7   Massachusetts   7339\n",
       "8        Missouri   6072\n",
       "9          Nevada  14822\n",
       "10  New Hampshire   3543\n",
       "11     New Mexico   3805\n",
       "12       New York  17731\n",
       "13           Ohio   8787\n",
       "14       Oklahoma   7298\n",
       "15         Oregon  10661\n",
       "16          Texas   9092\n",
       "17           Utah   9159\n",
       "18     Washington   9744\n",
       "19      Wisconsin   7839"
      ]
     },
     "execution_count": 34,
     "metadata": {},
     "output_type": "execute_result"
    }
   ],
   "source": [
    "sales_by_state = df.copy()\n",
    "sales_by_state = sales_by_state.groupby(['State'])['Sales'].sum().reset_index()\n",
    "sales_by_state"
   ]
  },
  {
   "cell_type": "code",
   "execution_count": 35,
   "id": "6c78df5b",
   "metadata": {},
   "outputs": [
    {
     "data": {
      "image/png": "[encoded data removed]",
      "text/plain": [
       "<Figure size 432x288 with 1 Axes>"
      ]
     },
     "metadata": {
      "needs_background": "light"
     },
     "output_type": "display_data"
    }
   ],
   "source": [
    "# Barplot of sales by state\n",
    "plt.bar(sales_by_state['State'], sales_by_state['Sales'])\n",
    "plt.xlabel('State')\n",
    "plt.ylabel('Sales')\n",
    "plt.title('Sales by State')\n",
    "plt.xticks(rotation='vertical')\n",
    "plt.show()\n"
   ]
  },
  {
   "cell_type": "markdown",
   "id": "efc63952",
   "metadata": {},
   "source": [
    "### Highest sales by year"
   ]
  },
  {
   "cell_type": "code",
   "execution_count": 36,
   "id": "fdc5e238",
   "metadata": {},
   "outputs": [],
   "source": [
    "df['Year'] = df['Date'].apply(lambda x : x.split('/')[2])"
   ]
  },
  {
   "cell_type": "code",
   "execution_count": 37,
   "id": "8dc5dd87",
   "metadata": {},
   "outputs": [],
   "source": [
    "df['Year'] = pd.to_numeric(df['Year'])"
   ]
  },
  {
   "cell_type": "code",
   "execution_count": 38,
   "id": "3edaea30",
   "metadata": {},
   "outputs": [
    {
     "data": {
      "text/html": [
       "<div>\n",
       "<style scoped>\n",
       "    .dataframe tbody tr th:only-of-type {\n",
       "        vertical-align: middle;\n",
       "    }\n",
       "\n",
       "    .dataframe tbody tr th {\n",
       "        vertical-align: top;\n",
       "    }\n",
       "\n",
       "    .dataframe thead th {\n",
       "        text-align: right;\n",
       "    }\n",
       "</style>\n",
       "<table border=\"1\" class=\"dataframe\">\n",
       "  <thead>\n",
       "    <tr style=\"text-align: right;\">\n",
       "      <th></th>\n",
       "      <th>Year</th>\n",
       "      <th>Sales</th>\n",
       "    </tr>\n",
       "  </thead>\n",
       "  <tbody>\n",
       "    <tr>\n",
       "      <th>0</th>\n",
       "      <td>2012</td>\n",
       "      <td>10861</td>\n",
       "    </tr>\n",
       "    <tr>\n",
       "      <th>1</th>\n",
       "      <td>2013</td>\n",
       "      <td>38898</td>\n",
       "    </tr>\n",
       "    <tr>\n",
       "      <th>2</th>\n",
       "      <td>2014</td>\n",
       "      <td>84982</td>\n",
       "    </tr>\n",
       "    <tr>\n",
       "      <th>3</th>\n",
       "      <td>2015</td>\n",
       "      <td>68154</td>\n",
       "    </tr>\n",
       "  </tbody>\n",
       "</table>\n",
       "</div>"
      ],
      "text/plain": [
       "   Year  Sales\n",
       "0  2012  10861\n",
       "1  2013  38898\n",
       "2  2014  84982\n",
       "3  2015  68154"
      ]
     },
     "execution_count": 38,
     "metadata": {},
     "output_type": "execute_result"
    }
   ],
   "source": [
    "highst_sales_by_year = df[['Year', 'Sales']].groupby('Year').sum().reset_index()\n",
    "highst_sales_by_year"
   ]
  },
  {
   "cell_type": "code",
   "execution_count": 39,
   "id": "8d5d4414",
   "metadata": {},
   "outputs": [
    {
     "data": {
      "image/png": "[encoded data removed]",
      "text/plain": [
       "<Figure size 432x288 with 1 Axes>"
      ]
     },
     "metadata": {
      "needs_background": "light"
     },
     "output_type": "display_data"
    }
   ],
   "source": [
    "# barplot\n",
    "ax = sns.barplot(data= highst_sales_by_year, x='Year' , y='Sales', color='Yellow')\n",
    "sns.despine(left=True, bottom=True)\n",
    "plt.yticks([],[])\n",
    "ax.bar_label(ax.containers[0]);"
   ]
  },
  {
   "cell_type": "markdown",
   "id": "2deb5537",
   "metadata": {},
   "source": [
    "### Sales per market"
   ]
  },
  {
   "cell_type": "code",
   "execution_count": 40,
   "id": "1d69b19c",
   "metadata": {},
   "outputs": [
    {
     "data": {
      "text/html": [
       "<div>\n",
       "<style scoped>\n",
       "    .dataframe tbody tr th:only-of-type {\n",
       "        vertical-align: middle;\n",
       "    }\n",
       "\n",
       "    .dataframe tbody tr th {\n",
       "        vertical-align: top;\n",
       "    }\n",
       "\n",
       "    .dataframe thead th {\n",
       "        text-align: right;\n",
       "    }\n",
       "</style>\n",
       "<table border=\"1\" class=\"dataframe\">\n",
       "  <thead>\n",
       "    <tr style=\"text-align: right;\">\n",
       "      <th></th>\n",
       "      <th>Market</th>\n",
       "      <th>Sales</th>\n",
       "    </tr>\n",
       "  </thead>\n",
       "  <tbody>\n",
       "    <tr>\n",
       "      <th>0</th>\n",
       "      <td>Central</td>\n",
       "      <td>64981</td>\n",
       "    </tr>\n",
       "    <tr>\n",
       "      <th>1</th>\n",
       "      <td>East</td>\n",
       "      <td>44108</td>\n",
       "    </tr>\n",
       "    <tr>\n",
       "      <th>2</th>\n",
       "      <td>South</td>\n",
       "      <td>26388</td>\n",
       "    </tr>\n",
       "    <tr>\n",
       "      <th>3</th>\n",
       "      <td>West</td>\n",
       "      <td>67418</td>\n",
       "    </tr>\n",
       "  </tbody>\n",
       "</table>\n",
       "</div>"
      ],
      "text/plain": [
       "    Market  Sales\n",
       "0  Central  64981\n",
       "1     East  44108\n",
       "2    South  26388\n",
       "3     West  67418"
      ]
     },
     "execution_count": 40,
     "metadata": {},
     "output_type": "execute_result"
    }
   ],
   "source": [
    "sales_per_market = df.copy()\n",
    "sales_per_market = sales_per_market.groupby(['Market'])['Sales'].sum().reset_index()\n",
    "sales_per_market"
   ]
  },
  {
   "cell_type": "code",
   "execution_count": 41,
   "id": "4ded6ff9",
   "metadata": {},
   "outputs": [
    {
     "data": {
      "image/png": "[encoded data removed]",
      "text/plain": [
       "<Figure size 432x288 with 1 Axes>"
      ]
     },
     "metadata": {
      "needs_background": "light"
     },
     "output_type": "display_data"
    }
   ],
   "source": [
    "# barplot\n",
    "plt.bar(sales_per_market['Market'], sales_per_market['Sales'])\n",
    "plt.xlabel('Market')\n",
    "plt.ylabel('Sales')\n",
    "plt.title('Sales per Market')\n",
    "plt.xticks(rotation='vertical')\n",
    "plt.show()"
   ]
  },
  {
   "cell_type": "markdown",
   "id": "8885763b",
   "metadata": {},
   "source": [
    "## Sales variation by product line"
   ]
  },
  {
   "cell_type": "code",
   "execution_count": 42,
   "id": "fca55cb9",
   "metadata": {},
   "outputs": [
    {
     "data": {
      "text/html": [
       "<div>\n",
       "<style scoped>\n",
       "    .dataframe tbody tr th:only-of-type {\n",
       "        vertical-align: middle;\n",
       "    }\n",
       "\n",
       "    .dataframe tbody tr th {\n",
       "        vertical-align: top;\n",
       "    }\n",
       "\n",
       "    .dataframe thead th {\n",
       "        text-align: right;\n",
       "    }\n",
       "</style>\n",
       "<table border=\"1\" class=\"dataframe\">\n",
       "  <thead>\n",
       "    <tr style=\"text-align: right;\">\n",
       "      <th></th>\n",
       "      <th>Product_line</th>\n",
       "      <th>Sales</th>\n",
       "    </tr>\n",
       "  </thead>\n",
       "  <tbody>\n",
       "    <tr>\n",
       "      <th>0</th>\n",
       "      <td>Beans</td>\n",
       "      <td>108386</td>\n",
       "    </tr>\n",
       "    <tr>\n",
       "      <th>1</th>\n",
       "      <td>Leaves</td>\n",
       "      <td>94509</td>\n",
       "    </tr>\n",
       "  </tbody>\n",
       "</table>\n",
       "</div>"
      ],
      "text/plain": [
       "  Product_line   Sales\n",
       "0        Beans  108386\n",
       "1       Leaves   94509"
      ]
     },
     "execution_count": 42,
     "metadata": {},
     "output_type": "execute_result"
    }
   ],
   "source": [
    "product_line_sales = df.copy()\n",
    "product_line_sales = product_line_sales.groupby(['Product_line'])['Sales'].sum().reset_index()\n",
    "product_line_sales"
   ]
  },
  {
   "cell_type": "code",
   "execution_count": 43,
   "id": "5e85f8e3",
   "metadata": {},
   "outputs": [
    {
     "data": {
      "image/png": "[encoded data removed]",
      "text/plain": [
       "<Figure size 432x288 with 1 Axes>"
      ]
     },
     "metadata": {
      "needs_background": "light"
     },
     "output_type": "display_data"
    }
   ],
   "source": [
    "# barplot\n",
    "plt.bar(product_line_sales['Product_line'], product_line_sales['Sales'])\n",
    "plt.xlabel('Product_line')\n",
    "plt.ylabel('Sales')\n",
    "plt.title('Sales vary by Product line')\n",
    "plt.xticks(rotation='vertical')\n",
    "plt.show()"
   ]
  },
  {
   "cell_type": "markdown",
   "id": "1e38ec63",
   "metadata": {},
   "source": [
    "## PROFIT ANALYSIS"
   ]
  },
  {
   "cell_type": "markdown",
   "id": "edb774f3",
   "metadata": {},
   "source": [
    "### Total profit"
   ]
  },
  {
   "cell_type": "code",
   "execution_count": 16,
   "id": "308c159b",
   "metadata": {},
   "outputs": [
    {
     "data": {
      "text/plain": [
       "64311"
      ]
     },
     "execution_count": 16,
     "metadata": {},
     "output_type": "execute_result"
    }
   ],
   "source": [
    "total_profit = df['Profit'].sum()\n",
    "total_profit"
   ]
  },
  {
   "cell_type": "markdown",
   "id": "7861faa4",
   "metadata": {},
   "source": [
    "### Profit by year"
   ]
  },
  {
   "cell_type": "code",
   "execution_count": 44,
   "id": "718b7f67",
   "metadata": {},
   "outputs": [
    {
     "data": {
      "text/html": [
       "<div>\n",
       "<style scoped>\n",
       "    .dataframe tbody tr th:only-of-type {\n",
       "        vertical-align: middle;\n",
       "    }\n",
       "\n",
       "    .dataframe tbody tr th {\n",
       "        vertical-align: top;\n",
       "    }\n",
       "\n",
       "    .dataframe thead th {\n",
       "        text-align: right;\n",
       "    }\n",
       "</style>\n",
       "<table border=\"1\" class=\"dataframe\">\n",
       "  <thead>\n",
       "    <tr style=\"text-align: right;\">\n",
       "      <th></th>\n",
       "      <th>State</th>\n",
       "      <th>Year</th>\n",
       "      <th>Profit</th>\n",
       "    </tr>\n",
       "  </thead>\n",
       "  <tbody>\n",
       "    <tr>\n",
       "      <th>0</th>\n",
       "      <td>California</td>\n",
       "      <td>2012</td>\n",
       "      <td>192</td>\n",
       "    </tr>\n",
       "    <tr>\n",
       "      <th>1</th>\n",
       "      <td>California</td>\n",
       "      <td>2013</td>\n",
       "      <td>596</td>\n",
       "    </tr>\n",
       "    <tr>\n",
       "      <th>2</th>\n",
       "      <td>California</td>\n",
       "      <td>2014</td>\n",
       "      <td>264</td>\n",
       "    </tr>\n",
       "    <tr>\n",
       "      <th>3</th>\n",
       "      <td>California</td>\n",
       "      <td>2015</td>\n",
       "      <td>6288</td>\n",
       "    </tr>\n",
       "    <tr>\n",
       "      <th>4</th>\n",
       "      <td>Colorado</td>\n",
       "      <td>2012</td>\n",
       "      <td>147</td>\n",
       "    </tr>\n",
       "    <tr>\n",
       "      <th>...</th>\n",
       "      <td>...</td>\n",
       "      <td>...</td>\n",
       "      <td>...</td>\n",
       "    </tr>\n",
       "    <tr>\n",
       "      <th>64</th>\n",
       "      <td>Washington</td>\n",
       "      <td>2015</td>\n",
       "      <td>1660</td>\n",
       "    </tr>\n",
       "    <tr>\n",
       "      <th>65</th>\n",
       "      <td>Wisconsin</td>\n",
       "      <td>2012</td>\n",
       "      <td>153</td>\n",
       "    </tr>\n",
       "    <tr>\n",
       "      <th>66</th>\n",
       "      <td>Wisconsin</td>\n",
       "      <td>2013</td>\n",
       "      <td>520</td>\n",
       "    </tr>\n",
       "    <tr>\n",
       "      <th>67</th>\n",
       "      <td>Wisconsin</td>\n",
       "      <td>2014</td>\n",
       "      <td>810</td>\n",
       "    </tr>\n",
       "    <tr>\n",
       "      <th>68</th>\n",
       "      <td>Wisconsin</td>\n",
       "      <td>2015</td>\n",
       "      <td>454</td>\n",
       "    </tr>\n",
       "  </tbody>\n",
       "</table>\n",
       "<p>69 rows × 3 columns</p>\n",
       "</div>"
      ],
      "text/plain": [
       "         State  Year  Profit\n",
       "0   California  2012     192\n",
       "1   California  2013     596\n",
       "2   California  2014     264\n",
       "3   California  2015    6288\n",
       "4     Colorado  2012     147\n",
       "..         ...   ...     ...\n",
       "64  Washington  2015    1660\n",
       "65   Wisconsin  2012     153\n",
       "66   Wisconsin  2013     520\n",
       "67   Wisconsin  2014     810\n",
       "68   Wisconsin  2015     454\n",
       "\n",
       "[69 rows x 3 columns]"
      ]
     },
     "execution_count": 44,
     "metadata": {},
     "output_type": "execute_result"
    }
   ],
   "source": [
    "prof_by_year = df[['State','Profit','Year']].groupby(['State', 'Year']).sum().reset_index()\n",
    "prof_by_year"
   ]
  },
  {
   "cell_type": "markdown",
   "id": "ea240401",
   "metadata": {},
   "source": [
    "### Profit by State"
   ]
  },
  {
   "cell_type": "code",
   "execution_count": null,
   "id": "30680c9d",
   "metadata": {},
   "outputs": [],
   "source": [
    "plt.figure(figsize=(12, 6))\n",
    "plt.bar(df['State'], df['Profit'], color='b')\n",
    "plt.xlabel('State')\n",
    "plt.ylabel('Profit')\n",
    "plt.title('Profits by State')\n",
    "plt.xticks(rotation=45);"
   ]
  },
  {
   "cell_type": "markdown",
   "id": "45784321",
   "metadata": {},
   "source": [
    "### Profit compare to the target profit for each state"
   ]
  },
  {
   "cell_type": "code",
   "execution_count": null,
   "id": "38b2e4e8",
   "metadata": {},
   "outputs": [],
   "source": [
    "prof_to_target_prof = pd.DataFrame()\n",
    "prof_to_target_prof['State'] = df['State']\n",
    "prof_to_target_prof['Profit'] = df['Profit']\n",
    "prof_to_target_prof['Target_profit'] = df['Target_profit']\n",
    "prof_to_target_prof"
   ]
  },
  {
   "cell_type": "code",
   "execution_count": null,
   "id": "81bb655f",
   "metadata": {},
   "outputs": [],
   "source": [
    "groupby_profit = prof_to_target_prof.groupby(['State'])[['Profit', 'Target_profit']].sum().reset_index()\n",
    "groupby_profit"
   ]
  },
  {
   "cell_type": "markdown",
   "id": "b5c1e660",
   "metadata": {},
   "source": [
    "## Which product has the highest Profit?"
   ]
  },
  {
   "cell_type": "code",
   "execution_count": 11,
   "id": "8a2da683",
   "metadata": {},
   "outputs": [
    {
     "data": {
      "text/html": [
       "<div>\n",
       "<style scoped>\n",
       "    .dataframe tbody tr th:only-of-type {\n",
       "        vertical-align: middle;\n",
       "    }\n",
       "\n",
       "    .dataframe tbody tr th {\n",
       "        vertical-align: top;\n",
       "    }\n",
       "\n",
       "    .dataframe thead th {\n",
       "        text-align: right;\n",
       "    }\n",
       "</style>\n",
       "<table border=\"1\" class=\"dataframe\">\n",
       "  <thead>\n",
       "    <tr style=\"text-align: right;\">\n",
       "      <th></th>\n",
       "      <th>Product</th>\n",
       "      <th>Profit</th>\n",
       "    </tr>\n",
       "  </thead>\n",
       "  <tbody>\n",
       "    <tr>\n",
       "      <th>9</th>\n",
       "      <td>Green Tea</td>\n",
       "      <td>89</td>\n",
       "    </tr>\n",
       "    <tr>\n",
       "      <th>11</th>\n",
       "      <td>Mint</td>\n",
       "      <td>1286</td>\n",
       "    </tr>\n",
       "    <tr>\n",
       "      <th>0</th>\n",
       "      <td>Amaretto</td>\n",
       "      <td>1352</td>\n",
       "    </tr>\n",
       "    <tr>\n",
       "      <th>1</th>\n",
       "      <td>Caffe Latte</td>\n",
       "      <td>2716</td>\n",
       "    </tr>\n",
       "    <tr>\n",
       "      <th>7</th>\n",
       "      <td>Decaf Irish Cream</td>\n",
       "      <td>3201</td>\n",
       "    </tr>\n",
       "    <tr>\n",
       "      <th>12</th>\n",
       "      <td>Regular Espresso</td>\n",
       "      <td>3438</td>\n",
       "    </tr>\n",
       "    <tr>\n",
       "      <th>2</th>\n",
       "      <td>Caffe Mocha</td>\n",
       "      <td>4687</td>\n",
       "    </tr>\n",
       "    <tr>\n",
       "      <th>8</th>\n",
       "      <td>Earl Grey</td>\n",
       "      <td>5975</td>\n",
       "    </tr>\n",
       "    <tr>\n",
       "      <th>5</th>\n",
       "      <td>Darjeeling</td>\n",
       "      <td>6976</td>\n",
       "    </tr>\n",
       "    <tr>\n",
       "      <th>3</th>\n",
       "      <td>Chamomile</td>\n",
       "      <td>7006</td>\n",
       "    </tr>\n",
       "    <tr>\n",
       "      <th>6</th>\n",
       "      <td>Decaf Espresso</td>\n",
       "      <td>7039</td>\n",
       "    </tr>\n",
       "    <tr>\n",
       "      <th>10</th>\n",
       "      <td>Lemon</td>\n",
       "      <td>7614</td>\n",
       "    </tr>\n",
       "    <tr>\n",
       "      <th>4</th>\n",
       "      <td>Colombian</td>\n",
       "      <td>12932</td>\n",
       "    </tr>\n",
       "  </tbody>\n",
       "</table>\n",
       "</div>"
      ],
      "text/plain": [
       "              Product  Profit\n",
       "9           Green Tea      89\n",
       "11               Mint    1286\n",
       "0            Amaretto    1352\n",
       "1         Caffe Latte    2716\n",
       "7   Decaf Irish Cream    3201\n",
       "12   Regular Espresso    3438\n",
       "2         Caffe Mocha    4687\n",
       "8           Earl Grey    5975\n",
       "5          Darjeeling    6976\n",
       "3           Chamomile    7006\n",
       "6      Decaf Espresso    7039\n",
       "10              Lemon    7614\n",
       "4           Colombian   12932"
      ]
     },
     "execution_count": 11,
     "metadata": {},
     "output_type": "execute_result"
    }
   ],
   "source": [
    "prod_highst_prof = df[['Product', 'Profit']].groupby('Product').sum().reset_index().sort_values(by='Profit')\n",
    "prod_highst_prof\n"
   ]
  },
  {
   "cell_type": "code",
   "execution_count": null,
   "id": "e7ce051b",
   "metadata": {},
   "outputs": [],
   "source": [
    "#pip install --upgrade matplotlib\n",
    "#import matplotlib.pyplot as plt"
   ]
  },
  {
   "cell_type": "code",
   "execution_count": 12,
   "id": "f766bd48",
   "metadata": {},
   "outputs": [
    {
     "data": {
      "image/png": "[encoded data removed]",
      "text/plain": [
       "<Figure size 432x288 with 1 Axes>"
      ]
     },
     "metadata": {
      "needs_background": "light"
     },
     "output_type": "display_data"
    }
   ],
   "source": [
    "# barplot\n",
    "ax = sns.barplot(data= prod_highst_prof, x='Product', y='Profit', color='Green')\n",
    "sns.despine(left=True, bottom=True)\n",
    "plt.xticks(rotation='vertical')\n",
    "plt.yticks([],[])\n",
    "ax.bar_label(ax.containers[0]);\n"
   ]
  },
  {
   "cell_type": "markdown",
   "id": "db8665d9",
   "metadata": {},
   "source": [
    "## COGS (Cost of Goods Sold) Analysis"
   ]
  },
  {
   "cell_type": "markdown",
   "id": "bc336ff3",
   "metadata": {},
   "source": [
    "### Total COGS for the dataset"
   ]
  },
  {
   "cell_type": "code",
   "execution_count": 22,
   "id": "e837d270",
   "metadata": {},
   "outputs": [
    {
     "data": {
      "text/plain": [
       "87508"
      ]
     },
     "execution_count": 22,
     "metadata": {},
     "output_type": "execute_result"
    }
   ],
   "source": [
    "total_COGS = df['Cogs'].sum()\n",
    "total_COGS"
   ]
  },
  {
   "cell_type": "markdown",
   "id": "a00657fd",
   "metadata": {},
   "source": [
    "### COGS compare to the target COGS per state"
   ]
  },
  {
   "cell_type": "code",
   "execution_count": 23,
   "id": "e8b04860",
   "metadata": {},
   "outputs": [
    {
     "data": {
      "text/html": [
       "<div>\n",
       "<style scoped>\n",
       "    .dataframe tbody tr th:only-of-type {\n",
       "        vertical-align: middle;\n",
       "    }\n",
       "\n",
       "    .dataframe tbody tr th {\n",
       "        vertical-align: top;\n",
       "    }\n",
       "\n",
       "    .dataframe thead th {\n",
       "        text-align: right;\n",
       "    }\n",
       "</style>\n",
       "<table border=\"1\" class=\"dataframe\">\n",
       "  <thead>\n",
       "    <tr style=\"text-align: right;\">\n",
       "      <th></th>\n",
       "      <th>State</th>\n",
       "      <th>Cogs</th>\n",
       "      <th>Target_cogs</th>\n",
       "    </tr>\n",
       "  </thead>\n",
       "  <tbody>\n",
       "    <tr>\n",
       "      <th>0</th>\n",
       "      <td>California</td>\n",
       "      <td>10748</td>\n",
       "      <td>10360</td>\n",
       "    </tr>\n",
       "    <tr>\n",
       "      <th>1</th>\n",
       "      <td>Colorado</td>\n",
       "      <td>5086</td>\n",
       "      <td>4520</td>\n",
       "    </tr>\n",
       "    <tr>\n",
       "      <th>2</th>\n",
       "      <td>Connecticut</td>\n",
       "      <td>2716</td>\n",
       "      <td>2140</td>\n",
       "    </tr>\n",
       "    <tr>\n",
       "      <th>3</th>\n",
       "      <td>Florida</td>\n",
       "      <td>3606</td>\n",
       "      <td>2900</td>\n",
       "    </tr>\n",
       "    <tr>\n",
       "      <th>4</th>\n",
       "      <td>Illinois</td>\n",
       "      <td>7000</td>\n",
       "      <td>7400</td>\n",
       "    </tr>\n",
       "    <tr>\n",
       "      <th>5</th>\n",
       "      <td>Iowa</td>\n",
       "      <td>5658</td>\n",
       "      <td>4540</td>\n",
       "    </tr>\n",
       "    <tr>\n",
       "      <th>6</th>\n",
       "      <td>Louisiana</td>\n",
       "      <td>2504</td>\n",
       "      <td>2080</td>\n",
       "    </tr>\n",
       "    <tr>\n",
       "      <th>7</th>\n",
       "      <td>Massachusetts</td>\n",
       "      <td>2384</td>\n",
       "      <td>2020</td>\n",
       "    </tr>\n",
       "    <tr>\n",
       "      <th>8</th>\n",
       "      <td>Missouri</td>\n",
       "      <td>2722</td>\n",
       "      <td>2260</td>\n",
       "    </tr>\n",
       "    <tr>\n",
       "      <th>9</th>\n",
       "      <td>Nevada</td>\n",
       "      <td>7674</td>\n",
       "      <td>5580</td>\n",
       "    </tr>\n",
       "    <tr>\n",
       "      <th>10</th>\n",
       "      <td>New Hampshire</td>\n",
       "      <td>1316</td>\n",
       "      <td>920</td>\n",
       "    </tr>\n",
       "    <tr>\n",
       "      <th>11</th>\n",
       "      <td>New Mexico</td>\n",
       "      <td>1736</td>\n",
       "      <td>1440</td>\n",
       "    </tr>\n",
       "    <tr>\n",
       "      <th>12</th>\n",
       "      <td>New York</td>\n",
       "      <td>8374</td>\n",
       "      <td>7040</td>\n",
       "    </tr>\n",
       "    <tr>\n",
       "      <th>13</th>\n",
       "      <td>Ohio</td>\n",
       "      <td>3696</td>\n",
       "      <td>3520</td>\n",
       "    </tr>\n",
       "    <tr>\n",
       "      <th>14</th>\n",
       "      <td>Oklahoma</td>\n",
       "      <td>2964</td>\n",
       "      <td>2520</td>\n",
       "    </tr>\n",
       "    <tr>\n",
       "      <th>15</th>\n",
       "      <td>Oregon</td>\n",
       "      <td>4478</td>\n",
       "      <td>3720</td>\n",
       "    </tr>\n",
       "    <tr>\n",
       "      <th>16</th>\n",
       "      <td>Texas</td>\n",
       "      <td>3760</td>\n",
       "      <td>3500</td>\n",
       "    </tr>\n",
       "    <tr>\n",
       "      <th>17</th>\n",
       "      <td>Utah</td>\n",
       "      <td>3970</td>\n",
       "      <td>3380</td>\n",
       "    </tr>\n",
       "    <tr>\n",
       "      <th>18</th>\n",
       "      <td>Washington</td>\n",
       "      <td>3916</td>\n",
       "      <td>3380</td>\n",
       "    </tr>\n",
       "    <tr>\n",
       "      <th>19</th>\n",
       "      <td>Wisconsin</td>\n",
       "      <td>3200</td>\n",
       "      <td>2900</td>\n",
       "    </tr>\n",
       "  </tbody>\n",
       "</table>\n",
       "</div>"
      ],
      "text/plain": [
       "            State   Cogs  Target_cogs\n",
       "0      California  10748        10360\n",
       "1        Colorado   5086         4520\n",
       "2     Connecticut   2716         2140\n",
       "3         Florida   3606         2900\n",
       "4        Illinois   7000         7400\n",
       "5            Iowa   5658         4540\n",
       "6       Louisiana   2504         2080\n",
       "7   Massachusetts   2384         2020\n",
       "8        Missouri   2722         2260\n",
       "9          Nevada   7674         5580\n",
       "10  New Hampshire   1316          920\n",
       "11     New Mexico   1736         1440\n",
       "12       New York   8374         7040\n",
       "13           Ohio   3696         3520\n",
       "14       Oklahoma   2964         2520\n",
       "15         Oregon   4478         3720\n",
       "16          Texas   3760         3500\n",
       "17           Utah   3970         3380\n",
       "18     Washington   3916         3380\n",
       "19      Wisconsin   3200         2900"
      ]
     },
     "execution_count": 23,
     "metadata": {},
     "output_type": "execute_result"
    }
   ],
   "source": [
    "COGS_to_target_cogs = pd.DataFrame()\n",
    "COGS_to_target_cogs['Cogs'] = df['Cogs']\n",
    "COGS_to_target_cogs['Target_cogs'] = df['Target_cogs']\n",
    "COGS_to_target_cogs['State'] = df['State']\n",
    "COGS_to_target_cogs = COGS_to_target_cogs.groupby(['State'])[['Cogs', 'Target_cogs']].sum().reset_index()\n",
    "COGS_to_target_cogs"
   ]
  },
  {
   "cell_type": "markdown",
   "id": "b206915a",
   "metadata": {},
   "source": [
    "### COGS vs Traget COGS by Year"
   ]
  },
  {
   "cell_type": "code",
   "execution_count": 25,
   "id": "d7871a14",
   "metadata": {},
   "outputs": [
    {
     "data": {
      "image/png": "[encoded data removed]",
      "text/plain": [
       "<Figure size 720x432 with 1 Axes>"
      ]
     },
     "metadata": {
      "needs_background": "light"
     },
     "output_type": "display_data"
    },
    {
     "name": "stdout",
     "output_type": "stream",
     "text": [
      "Cogs vs Target Cogs by Year:\n",
      "        Cogs  Target_cogs\n",
      "Year                    \n",
      "2012   4481         3310\n",
      "2013  15827        11820\n",
      "2014  35902        32420\n",
      "2015  31298        28570\n"
     ]
    }
   ],
   "source": [
    "grouped = df.groupby('Year')[['Cogs', 'Target_cogs']].sum()\n",
    "\n",
    "# Create a bar plot\n",
    "ax = grouped.plot(kind='bar', figsize=(10, 6), width=0.8,)\n",
    "plt.xlabel('Year', fontweight='bold')\n",
    "plt.ylabel('USD $', fontweight='bold')\n",
    "plt.title('Cogs vs Target Cogs by Year', fontweight='bold')\n",
    "plt.xticks(rotation=45)\n",
    "\n",
    "plt.legend(title='', loc='upper left', bbox_to_anchor=(1, 1))\n",
    "plt.show()\n",
    "print(\"Cogs vs Target Cogs by Year:\\n\",grouped)"
   ]
  },
  {
   "cell_type": "markdown",
   "id": "0aa2c4be",
   "metadata": {},
   "source": [
    "### COGS by Year"
   ]
  },
  {
   "cell_type": "code",
   "execution_count": 24,
   "id": "2f82429a",
   "metadata": {},
   "outputs": [
    {
     "data": {
      "image/png": "[encoded data removed]",
      "text/plain": [
       "<Figure size 720x432 with 1 Axes>"
      ]
     },
     "metadata": {
      "needs_background": "light"
     },
     "output_type": "display_data"
    },
    {
     "name": "stdout",
     "output_type": "stream",
     "text": [
      "Cost Of Goods Sold by Year:\n",
      " Year\n",
      "2012     4481\n",
      "2013    15827\n",
      "2014    35902\n",
      "2015    31298\n",
      "Name: Cogs, dtype: int64\n"
     ]
    }
   ],
   "source": [
    "grouped = df.groupby(['Year'])['Cogs'].sum()\n",
    "\n",
    "# Create a bar plot\n",
    "ax = grouped.plot(kind='bar', figsize=(10, 6), width=0.8)\n",
    "plt.xlabel('Year', fontweight='bold')\n",
    "plt.ylabel('Cogs $', fontweight='bold')\n",
    "plt.title('Cost Of Goods Sold by Year', fontweight='bold')\n",
    "plt.xticks(rotation=45)\n",
    "\n",
    "plt.show()\n",
    "\n",
    "print(\"Cost Of Goods Sold by Year:\\n\",grouped)"
   ]
  },
  {
   "cell_type": "markdown",
   "id": "835658ab",
   "metadata": {},
   "source": [
    "## KEY PERFORMANCE METRICS"
   ]
  },
  {
   "cell_type": "markdown",
   "id": "8d2ea998",
   "metadata": {},
   "source": [
    "### Marketing vs Profit per Year"
   ]
  },
  {
   "cell_type": "code",
   "execution_count": 22,
   "id": "54c36a7a",
   "metadata": {},
   "outputs": [
    {
     "data": {
      "image/png": "[encoded data removed]",
      "text/plain": [
       "<Figure size 720x432 with 1 Axes>"
      ]
     },
     "metadata": {
      "needs_background": "light"
     },
     "output_type": "display_data"
    },
    {
     "name": "stdout",
     "output_type": "stream",
     "text": [
      "Marketing vs Profit per Year:\n",
      "       Marketing  Profit\n",
      "Year                   \n",
      "2012       1866    2493\n",
      "2013       6299    9484\n",
      "2014      12790   30380\n",
      "2015      11365   21954\n"
     ]
    }
   ],
   "source": [
    "grouped = df.groupby('Year')[['Marketing', 'Profit']].sum()\n",
    "\n",
    "# create a bar chart\n",
    "ax = grouped.plot(kind = 'bar', figsize=(10,6), width=0.8,)\n",
    "plt.xlabel('Year', fontweight='bold')\n",
    "plt.ylabel('USD $', fontweight='bold')\n",
    "plt.title('Marketing vs Profit per Year', fontweight='bold')\n",
    "plt.xticks(rotation=45)\n",
    "plt.legend(title='', loc='upper left', bbox_to_anchor=(1, 1))\n",
    "plt.show()\n",
    "print(\"Marketing vs Profit per Year:\\n\",grouped)"
   ]
  },
  {
   "cell_type": "code",
   "execution_count": 23,
   "id": "9ddf3041",
   "metadata": {},
   "outputs": [
    {
     "name": "stdout",
     "output_type": "stream",
     "text": [
      "ROI for each year:\n",
      "           ROI\n",
      "Year         \n",
      "2012  133.60%\n",
      "2013  150.56%\n",
      "2014  237.53%\n",
      "2015  193.17%\n"
     ]
    }
   ],
   "source": [
    "# Calculate ROI for each year\n",
    "grouped['ROI'] = (grouped['Profit'] / grouped['Marketing']) * 100\n",
    "\n",
    "# For readbility lets format our results\n",
    "grouped['ROI'] = grouped['ROI'].apply(lambda x: f'{x:.2f}%')\n",
    "\n",
    "print(\"ROI for each year:\\n\", grouped[['ROI']])"
   ]
  }
 ],
 "metadata": {
  "kernelspec": {
   "display_name": "Python 3",
   "language": "python",
   "name": "python3"
  },
  "language_info": {
   "codemirror_mode": {
    "name": "ipython",
    "version": 3
   },
   "file_extension": ".py",
   "mimetype": "text/x-python",
   "name": "python",
   "nbconvert_exporter": "python",
   "pygments_lexer": "ipython3",
   "version": "3.8.8"
  }
 },
 "nbformat": 4,
 "nbformat_minor": 5
}
